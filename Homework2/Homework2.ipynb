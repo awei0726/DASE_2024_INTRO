{
 "cells": [
  {
   "cell_type": "code",
   "execution_count": 4,
   "metadata": {},
   "outputs": [
    {
     "name": "stdout",
     "output_type": "stream",
     "text": [
      "最大公约数是: 14\n"
     ]
    }
   ],
   "source": [
    "def gcd(a,b):\n",
    "    while b:\n",
    "        a,b=b,a%b\n",
    "    return a\n",
    "\n",
    "num1=int(input(\"请输入第一个正整数: \"))\n",
    "num2=int(input(\"请输入第二个正整数: \"))\n",
    "print(\"最大公约数是:\", gcd(num1, num2))"
   ]
  },
  {
   "cell_type": "code",
   "execution_count": 6,
   "metadata": {},
   "outputs": [
    {
     "name": "stdout",
     "output_type": "stream",
     "text": [
      "良好\n"
     ]
    }
   ],
   "source": [
    "def grade(a):\n",
    "    if(a>=90):\n",
    "        print(\"优秀\")\n",
    "    elif(75<=a<90):\n",
    "        print(\"良好\")\n",
    "    elif(60<=a<75):\n",
    "        print(\"合格\")\n",
    "    else:\n",
    "        print(\"不合格\")\n",
    "\n",
    "num=float(input(\"请输入成绩: \"))\n",
    "grade(num)\n"
   ]
  },
  {
   "cell_type": "code",
   "execution_count": 25,
   "metadata": {},
   "outputs": [
    {
     "name": "stdout",
     "output_type": "stream",
     "text": [
      "二进制小数是: 1100.1\n",
      "<class 'str'>\n"
     ]
    }
   ],
   "source": [
    "def deci2bi(decimal):\n",
    "    integer=int(decimal)\n",
    "    fractional=decimal - integer\n",
    "\n",
    "    binary_integer = []\n",
    "    while integer:\n",
    "        curr=int(integer%2)\n",
    "        binary_integer.append(str(curr))\n",
    "        \n",
    "        integer=int(integer/2)\n",
    "\n",
    "    binary_integer= binary_integer[::-1]\n",
    "    biint=''.join(binary_integer)\n",
    "\n",
    "    binary_fraction = []\n",
    "    while fractional:\n",
    "        fractional *= 2\n",
    "        bit = int(fractional)\n",
    "        binary_fraction.append(str(bit))\n",
    "        fractional -= bit\n",
    "        if len(binary_fraction) > 10:  \n",
    "            break\n",
    "    bifrac=''.join(binary_fraction)\n",
    "\n",
    "    return f\"{biint}.{bifrac}\"\n",
    "\n",
    "num=float(input(\"请输入一个十进制数: \"))\n",
    "binary_result = deci2bi(num)\n",
    "print(\"二进制小数是:\", binary_result)\n"
   ]
  },
  {
   "cell_type": "code",
   "execution_count": 26,
   "metadata": {},
   "outputs": [
    {
     "name": "stdout",
     "output_type": "stream",
     "text": [
      "随机浮点数是: 10.321097345615863\n"
     ]
    }
   ],
   "source": [
    "import random\n",
    "random_float = random.uniform(10, 20)\n",
    "\n",
    "print(\"随机浮点数是:\", random_float)"
   ]
  },
  {
   "cell_type": "code",
   "execution_count": 27,
   "metadata": {},
   "outputs": [
    {
     "name": "stdout",
     "output_type": "stream",
     "text": [
      "124421 是回文数。\n"
     ]
    }
   ],
   "source": [
    "def is_palindrome(n):\n",
    "    str_n = str(n)\n",
    "    return str_n == str_n[::-1]\n",
    "\n",
    "number = int(input(\"请输入一个整数: \"))\n",
    "if is_palindrome(number):\n",
    "    print(f\"{number} 是回文数。\")\n",
    "else:\n",
    "    print(f\"{number} 不是回文数。\")"
   ]
  },
  {
   "cell_type": "code",
   "execution_count": 28,
   "metadata": {},
   "outputs": [
    {
     "name": "stdout",
     "output_type": "stream",
     "text": [
      "斐波那契数列的前 5 个数是: [0, 1, 1, 2, 3]\n"
     ]
    }
   ],
   "source": [
    "def fibonacci(n):\n",
    "    fib_sequence = []\n",
    "    a, b = 0, 1\n",
    "    for _ in range(n):\n",
    "        fib_sequence.append(a)\n",
    "        a, b = b, a + b\n",
    "    return fib_sequence\n",
    "\n",
    "N = int(input(\"请输入 N 的值: \"))\n",
    "print(\"斐波那契数列的前\", N, \"个数是:\", fibonacci(N))"
   ]
  },
  {
   "cell_type": "code",
   "execution_count": 29,
   "metadata": {},
   "outputs": [
    {
     "name": "stdout",
     "output_type": "stream",
     "text": [
      "数组中第二大的数是: 124\n"
     ]
    }
   ],
   "source": [
    "def second_largest(arr):\n",
    "    if len(arr) < 2:\n",
    "        return -1\n",
    "    unique_numbers = list(set(arr))\n",
    "    if len(unique_numbers) < 2:\n",
    "        return -1\n",
    "    unique_numbers.sort()\n",
    "    return unique_numbers[-2]\n",
    "\n",
    "numbers = [int(x) for x in input(\"请输入整数数组（以空格分隔）: \").split()]\n",
    "result = second_largest(numbers)\n",
    "if result == -1:\n",
    "    print(\"数组中没有第二大的数。\")\n",
    "else:\n",
    "    print(\"数组中第二大的数是:\", result)"
   ]
  },
  {
   "cell_type": "code",
   "execution_count": 1,
   "metadata": {},
   "outputs": [
    {
     "name": "stdout",
     "output_type": "stream",
     "text": [
      "身份证号合法。\n"
     ]
    }
   ],
   "source": [
    "import re\n",
    "\n",
    "def validate_id_card(id_card):\n",
    "    pattern = r'^[1-9]\\d{5}(19|20)\\d{2}(0[1-9]|1[0-2])(0[1-9]|[1-2]\\d|3[0-1])\\d{3}[\\d|X|x]$'\n",
    "    \n",
    "    if re.match(pattern, id_card):\n",
    "        return True\n",
    "    else:\n",
    "        return False\n",
    "\n",
    "id_number = input(\"请输入身份证号: \")\n",
    "if validate_id_card(id_number):\n",
    "    print(\"身份证号合法。\")\n",
    "else:\n",
    "    print(\"身份证号不合法。\")"
   ]
  }
 ],
 "metadata": {
  "kernelspec": {
   "display_name": "Python 3",
   "language": "python",
   "name": "python3"
  },
  "language_info": {
   "codemirror_mode": {
    "name": "ipython",
    "version": 3
   },
   "file_extension": ".py",
   "mimetype": "text/x-python",
   "name": "python",
   "nbconvert_exporter": "python",
   "pygments_lexer": "ipython3",
   "version": "3.11.9"
  }
 },
 "nbformat": 4,
 "nbformat_minor": 2
}
