{
 "cells": [
  {
   "cell_type": "code",
   "execution_count": 1,
   "metadata": {},
   "outputs": [
    {
     "name": "stdout",
     "output_type": "stream",
     "text": [
      "★★★★★★★★★★★\n",
      "★数据科学与工程导论★\n",
      "★★★★★★★★★★★\n"
     ]
    }
   ],
   "source": [
    "star=chr(0x2605)\n",
    "print(f\"{star}{star}{star}{star}{star}{star}{star}{star}{star}{star}{star}\")\n",
    "print(chr(0x2605)+\"数据科学与工程导论\"+chr(0x2605))\n",
    "print(f\"{star}{star}{star}{star}{star}{star}{star}{star}{star}{star}{star}\")"
   ]
  },
  {
   "cell_type": "code",
   "execution_count": 2,
   "metadata": {},
   "outputs": [
    {
     "name": "stdout",
     "output_type": "stream",
     "text": [
      "[1, 3, 6]\n"
     ]
    }
   ],
   "source": [
    "def sorted_list(a,b,c):\n",
    "    s_list=sorted([a,b,c])\n",
    "    print(s_list)\n",
    "a,b,c=input(\"请输入三个数，用空格分开:\").split()\n",
    "a=int(a)\n",
    "b=int(b)\n",
    "c=int(c)\n",
    "sorted_list(a,b,c)"
   ]
  },
  {
   "cell_type": "code",
   "execution_count": 4,
   "metadata": {},
   "outputs": [
    {
     "name": "stdout",
     "output_type": "stream",
     "text": [
      "[4214, 11, 4, 2]\n"
     ]
    }
   ],
   "source": [
    "def sorted_list(a,b,c,d):\n",
    "    s_list=sorted([a,b,c,d],reverse=True)\n",
    "    print(s_list)\n",
    "a,b,c,d=input(\"请输入4个数，用空格分开:\").split()\n",
    "a=int(a)\n",
    "b=int(b)\n",
    "c=int(c)\n",
    "d=int(d)\n",
    "sorted_list(a,b,c,d)"
   ]
  },
  {
   "cell_type": "code",
   "execution_count": 8,
   "metadata": {},
   "outputs": [
    {
     "name": "stdout",
     "output_type": "stream",
     "text": [
      "[1, 3, 5, 7, 9, 11, 13, 15, 17, 19, 21, 23, 25, 27, 29, 31, 33, 35, 37, 39, 41, 43, 45, 47, 49, 51, 53, 55, 57, 59, 61, 63, 65, 67, 69, 71, 73, 75, 77, 79, 81, 83, 85, 87, 89, 91, 93, 95, 97, 99]\n"
     ]
    }
   ],
   "source": [
    "list=[]\n",
    "for i in range(101):\n",
    "    if ((i%2)==1):\n",
    "        list.append(i)\n",
    "\n",
    "print(list)\n"
   ]
  },
  {
   "cell_type": "code",
   "execution_count": 9,
   "metadata": {},
   "outputs": [
    {
     "name": "stdout",
     "output_type": "stream",
     "text": [
      "5050\n"
     ]
    }
   ],
   "source": [
    "sum=0\n",
    "for i in range(101):\n",
    "    sum+=i\n",
    "print(sum)"
   ]
  },
  {
   "cell_type": "code",
   "execution_count": 11,
   "metadata": {},
   "outputs": [
    {
     "name": "stdout",
     "output_type": "stream",
     "text": [
      "[5, 4, 3, 2, 1]\n"
     ]
    }
   ],
   "source": [
    "def reverse_output(L):\n",
    "    result=[]\n",
    "    for i in range(len(L)-1,-1,-1):\n",
    "        result.append(L[i])\n",
    "    print(result)\n",
    "\n",
    "L=[1,2,3,4,5]\n",
    "reverse_output(L)"
   ]
  },
  {
   "cell_type": "code",
   "execution_count": 13,
   "metadata": {},
   "outputs": [
    {
     "name": "stdout",
     "output_type": "stream",
     "text": [
      "[5, 4, 3, 2, 1]\n"
     ]
    }
   ],
   "source": [
    "def reverse_output(L):\n",
    "    result=[]\n",
    "    i=len(L)-1\n",
    "    while(i>=0):\n",
    "        result.append(L[i])\n",
    "        i-=1\n",
    "    print(result)\n",
    "\n",
    "L=[1,2,3,4,5]\n",
    "reverse_output(L)"
   ]
  },
  {
   "cell_type": "code",
   "execution_count": 23,
   "metadata": {},
   "outputs": [
    {
     "name": "stdout",
     "output_type": "stream",
     "text": [
      "包含连续字符串\n"
     ]
    }
   ],
   "source": [
    "def same_letter(s):\n",
    "    length=len(s)-1\n",
    "    for i in range(length):\n",
    "        current=s[i]\n",
    "        next=s[i+1]\n",
    "        if (current==next):\n",
    "            return 1\n",
    "        else:\n",
    "            current=next\n",
    "            next=s[i+2]\n",
    "    return 0\n",
    "    \n",
    "\n",
    "str=input(\"请输入字符串\")\n",
    "\n",
    "if (same_letter(str)):\n",
    "    print(\"包含连续字符串\")\n",
    "else:\n",
    "    print(\"不包含连续字符串\")\n"
   ]
  },
  {
   "cell_type": "code",
   "execution_count": 8,
   "metadata": {},
   "outputs": [
    {
     "name": "stdout",
     "output_type": "stream",
     "text": [
      "DataScienceandEngineering\n"
     ]
    }
   ],
   "source": [
    "def remove_space(s):\n",
    "    return s.replace(\" \",\"\")\n",
    "str=input(\"请输入字符串\")\n",
    "str=remove_space(str)\n",
    "print(str)"
   ]
  },
  {
   "cell_type": "code",
   "execution_count": 18,
   "metadata": {},
   "outputs": [
    {
     "name": "stdout",
     "output_type": "stream",
     "text": [
      "该三次方根约为4.9761531126743845\n"
     ]
    }
   ],
   "source": [
    "def cubic_root(n):\n",
    "    x_start=1\n",
    "    for i in range(100):\n",
    "        y_start=(x_start**3)-n\n",
    "        k=3*(x_start**2)\n",
    "        x_start=x_start-(y_start/k)\n",
    "    return x_start\n",
    "n=input(\"请输入要开三次方根的数\")\n",
    "n=float(n)\n",
    "cubicroot=cubic_root(n)\n",
    "print(f\"该三次方根约为{cubicroot}\")\n"
   ]
  },
  {
   "cell_type": "code",
   "execution_count": 29,
   "metadata": {},
   "outputs": [
    {
     "name": "stdout",
     "output_type": "stream",
     "text": [
      "n的阶乘是479001600\n"
     ]
    }
   ],
   "source": [
    "def factorial(n):\n",
    "    factorial=1\n",
    "    if(n<0):\n",
    "        print(\"输入错误\")\n",
    "        return\n",
    "    elif(n==0):\n",
    "        return factorial\n",
    "    else:\n",
    "        for i in range(1,n+1):\n",
    "            factorial*=i\n",
    "    return factorial\n",
    "n=input(\"请输入n\")\n",
    "n=int(n)\n",
    "ftr=factorial(n)\n",
    "print(f\"n的阶乘是{ftr}\")\n"
   ]
  },
  {
   "cell_type": "code",
   "execution_count": null,
   "metadata": {},
   "outputs": [],
   "source": []
  }
 ],
 "metadata": {
  "kernelspec": {
   "display_name": "Python 3",
   "language": "python",
   "name": "python3"
  },
  "language_info": {
   "codemirror_mode": {
    "name": "ipython",
    "version": 3
   },
   "file_extension": ".py",
   "mimetype": "text/x-python",
   "name": "python",
   "nbconvert_exporter": "python",
   "pygments_lexer": "ipython3",
   "version": "3.11.9"
  }
 },
 "nbformat": 4,
 "nbformat_minor": 2
}
