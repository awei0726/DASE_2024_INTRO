{
 "cells": [
  {
   "cell_type": "code",
   "execution_count": 2,
   "metadata": {},
   "outputs": [
    {
     "data": {
      "text/html": [
       "<div>\n",
       "<style scoped>\n",
       "    .dataframe tbody tr th:only-of-type {\n",
       "        vertical-align: middle;\n",
       "    }\n",
       "\n",
       "    .dataframe tbody tr th {\n",
       "        vertical-align: top;\n",
       "    }\n",
       "\n",
       "    .dataframe thead th {\n",
       "        text-align: right;\n",
       "    }\n",
       "</style>\n",
       "<table border=\"1\" class=\"dataframe\">\n",
       "  <thead>\n",
       "    <tr style=\"text-align: right;\">\n",
       "      <th></th>\n",
       "      <th>user_id</th>\n",
       "      <th>name</th>\n",
       "      <th>location</th>\n",
       "      <th>total_influence</th>\n",
       "      <th>country</th>\n",
       "      <th>event_type</th>\n",
       "      <th>event_action</th>\n",
       "      <th>event_time</th>\n",
       "    </tr>\n",
       "  </thead>\n",
       "  <tbody>\n",
       "    <tr>\n",
       "      <th>0</th>\n",
       "      <td>663432</td>\n",
       "      <td>bdraco</td>\n",
       "      <td>Houston, TX</td>\n",
       "      <td>1776.967163</td>\n",
       "      <td>United States</td>\n",
       "      <td>CreateEvent</td>\n",
       "      <td>added</td>\n",
       "      <td>2024-11-26 20:28:37+08:00</td>\n",
       "    </tr>\n",
       "    <tr>\n",
       "      <th>1</th>\n",
       "      <td>663432</td>\n",
       "      <td>bdraco</td>\n",
       "      <td>Houston, TX</td>\n",
       "      <td>1776.967163</td>\n",
       "      <td>United States</td>\n",
       "      <td>CreateEvent</td>\n",
       "      <td>added</td>\n",
       "      <td>2024-11-26 20:42:57+08:00</td>\n",
       "    </tr>\n",
       "    <tr>\n",
       "      <th>2</th>\n",
       "      <td>663432</td>\n",
       "      <td>bdraco</td>\n",
       "      <td>Houston, TX</td>\n",
       "      <td>1776.967163</td>\n",
       "      <td>United States</td>\n",
       "      <td>CreateEvent</td>\n",
       "      <td>added</td>\n",
       "      <td>2024-11-27 04:10:46+08:00</td>\n",
       "    </tr>\n",
       "    <tr>\n",
       "      <th>3</th>\n",
       "      <td>663432</td>\n",
       "      <td>bdraco</td>\n",
       "      <td>Houston, TX</td>\n",
       "      <td>1776.967163</td>\n",
       "      <td>United States</td>\n",
       "      <td>CreateEvent</td>\n",
       "      <td>added</td>\n",
       "      <td>2024-11-27 17:43:50+08:00</td>\n",
       "    </tr>\n",
       "    <tr>\n",
       "      <th>4</th>\n",
       "      <td>663432</td>\n",
       "      <td>bdraco</td>\n",
       "      <td>Houston, TX</td>\n",
       "      <td>1776.967163</td>\n",
       "      <td>United States</td>\n",
       "      <td>CreateEvent</td>\n",
       "      <td>added</td>\n",
       "      <td>2024-11-27 19:56:34+08:00</td>\n",
       "    </tr>\n",
       "  </tbody>\n",
       "</table>\n",
       "</div>"
      ],
      "text/plain": [
       "   user_id    name     location  total_influence        country   event_type  \\\n",
       "0   663432  bdraco  Houston, TX      1776.967163  United States  CreateEvent   \n",
       "1   663432  bdraco  Houston, TX      1776.967163  United States  CreateEvent   \n",
       "2   663432  bdraco  Houston, TX      1776.967163  United States  CreateEvent   \n",
       "3   663432  bdraco  Houston, TX      1776.967163  United States  CreateEvent   \n",
       "4   663432  bdraco  Houston, TX      1776.967163  United States  CreateEvent   \n",
       "\n",
       "  event_action                 event_time  \n",
       "0        added  2024-11-26 20:28:37+08:00  \n",
       "1        added  2024-11-26 20:42:57+08:00  \n",
       "2        added  2024-11-27 04:10:46+08:00  \n",
       "3        added  2024-11-27 17:43:50+08:00  \n",
       "4        added  2024-11-27 19:56:34+08:00  "
      ]
     },
     "execution_count": 2,
     "metadata": {},
     "output_type": "execute_result"
    }
   ],
   "source": [
    "import pandas as pd\n",
    "\n",
    "# 假设数据文件为 CSV 格式\n",
    "data_url = \"users_combined_info_500.csv\"\n",
    "df = pd.read_csv(data_url)\n",
    "\n",
    "# 查看数据的前几行\n",
    "df.head()\n"
   ]
  },
  {
   "cell_type": "code",
   "execution_count": 41,
   "metadata": {},
   "outputs": [
    {
     "data": {
      "text/plain": [
       "country\n",
       "United States     305788\n",
       "Germany           182659\n",
       "China              73011\n",
       "United Kingdom     71606\n",
       "France             59570\n",
       "Name: count, dtype: int64"
      ]
     },
     "execution_count": 41,
     "metadata": {},
     "output_type": "execute_result"
    }
   ],
   "source": [
    "# 国家和地区分布\n",
    "country_distribution = df['country'].value_counts()\n",
    "\n",
    "# 输出结果\n",
    "country_distribution.head()\n"
   ]
  },
  {
   "cell_type": "code",
   "execution_count": 40,
   "metadata": {},
   "outputs": [
    {
     "data": {
      "text/plain": [
       "city\n",
       "Germany          111786\n",
       "Prague            39461\n",
       "San Francisco     27542\n",
       "Japan             26986\n",
       "Berlin            25978\n",
       "Name: count, dtype: int64"
      ]
     },
     "execution_count": 40,
     "metadata": {},
     "output_type": "execute_result"
    }
   ],
   "source": [
    "# 城市分布\n",
    "df['city']= df['location'].str.split(',').str[0]\n",
    "city_distribution = df['city'].value_counts()\n",
    "\n",
    "# 输出结果\n",
    "city_distribution.head()\n"
   ]
  },
  {
   "cell_type": "code",
   "execution_count": 39,
   "metadata": {},
   "outputs": [
    {
     "data": {
      "text/plain": [
       "country\n",
       "United States    122\n",
       "Germany           59\n",
       "China             34\n",
       "France            24\n",
       "Canada            24\n",
       "Name: count, dtype: int64"
      ]
     },
     "execution_count": 39,
     "metadata": {},
     "output_type": "execute_result"
    }
   ],
   "source": [
    "people = df.groupby(\"name\").first()\n",
    "# 国家和地区分布\n",
    "country_people = people['country'].value_counts()\n",
    "\n",
    "# 输出结果\n",
    "country_people.head()"
   ]
  },
  {
   "cell_type": "code",
   "execution_count": 38,
   "metadata": {},
   "outputs": [
    {
     "data": {
      "text/plain": [
       "city\n",
       "Germany          25\n",
       "Berlin           12\n",
       "San Francisco    11\n",
       "Seattle           8\n",
       "Paris             8\n",
       "Name: count, dtype: int64"
      ]
     },
     "execution_count": 38,
     "metadata": {},
     "output_type": "execute_result"
    }
   ],
   "source": [
    "# 城市分布\n",
    "city_people = people['city'].value_counts()\n",
    "\n",
    "# 输出结果\n",
    "city_people.head()"
   ]
  },
  {
   "cell_type": "code",
   "execution_count": 5,
   "metadata": {},
   "outputs": [
    {
     "data": {
      "text/plain": [
       "0         2024-11-26 20:28:37+08:00\n",
       "1         2024-11-26 20:42:57+08:00\n",
       "2         2024-11-27 04:10:46+08:00\n",
       "3         2024-11-27 17:43:50+08:00\n",
       "4         2024-11-27 19:56:34+08:00\n",
       "                     ...           \n",
       "1294771   2024-10-04 15:51:52+08:00\n",
       "1294772   2024-10-15 11:34:32+08:00\n",
       "1294773   2024-10-16 07:04:20+08:00\n",
       "1294774   2024-10-07 14:36:44+08:00\n",
       "1294775   2024-10-17 08:24:03+08:00\n",
       "Name: event_time, Length: 1294776, dtype: datetime64[ns, UTC+08:00]"
      ]
     },
     "execution_count": 5,
     "metadata": {},
     "output_type": "execute_result"
    }
   ],
   "source": [
    "time_zone=pd.to_datetime(df['event_time'])\n",
    "time_zone"
   ]
  },
  {
   "cell_type": "code",
   "execution_count": 6,
   "metadata": {},
   "outputs": [
    {
     "data": {
      "text/plain": [
       "timezone\n",
       "东一区         500521\n",
       "东五区到西八区     305788\n",
       "东八区          91337\n",
       "零时区          76182\n",
       "东三区到西八区      58600\n",
       "东九区          49081\n",
       "西八区到东十区      35746\n",
       "东二区          27477\n",
       "东十二区         18444\n",
       "东四区           7109\n",
       "东五区半          5689\n",
       "东三区           5630\n",
       "西三区到西五区       5022\n",
       "西五区           4769\n",
       "东五区           4462\n",
       "东七区到东九区       4248\n",
       "东二区到东十二区      4087\n",
       "东七区           2433\n",
       "Name: count, dtype: int64"
      ]
     },
     "execution_count": 6,
     "metadata": {},
     "output_type": "execute_result"
    }
   ],
   "source": [
    "country_timezones = {\n",
    "    'United States': '东五区到西八区',  # 美国跨多个时区\n",
    "    'Germany': '东一区',\n",
    "    'China': '东八区',\n",
    "    'United Kingdom': '零时区',\n",
    "    'France': '东一区',\n",
    "    'Canada': '东三区到西八区',  # 加拿大跨多个时区\n",
    "    'Netherlands': '东一区',\n",
    "    'Czechia': '东一区',\n",
    "    'Japan': '东九区',\n",
    "    'Switzerland': '东一区',\n",
    "    'Australia': '西八区到东十区',  # 澳大利亚跨多个时区\n",
    "    'Italy': '东一区',\n",
    "    'Poland': '东一区',\n",
    "    'New Zealand': '东十二区',\n",
    "    'Spain': '东一区',\n",
    "    'Austria': '东一区',\n",
    "    'Sweden': '东一区',\n",
    "    'Finland': '东二区',\n",
    "    'Denmark': '东一区',\n",
    "    'Bulgaria': '东二区',\n",
    "    'Hungary': '东一区',\n",
    "    'Belgium': '东一区',\n",
    "    'Norway': '东一区',\n",
    "    'India': '东五区半',\n",
    "    'United Arab Emirates': '东四区',\n",
    "    'Singapore': '东八区',\n",
    "    'Brazil': '西三区到西五区',  # 巴西跨多个时区\n",
    "    'Hong Kong': '东八区',\n",
    "    'Malaysia': '东八区',\n",
    "    'Pakistan': '东五区',\n",
    "    'Indonesia': '东七区到东九区',  # 印度尼西亚跨多个时区\n",
    "    'Russia': '东二区到东十二区',  # 俄罗斯跨多个时区\n",
    "    'Taiwan': '东八区',\n",
    "    'Tunisia': '东一区',\n",
    "    'Ethiopia': '东三区',\n",
    "    'Colombia': '西五区',\n",
    "    'Slovenia': '东一区',\n",
    "    'South Korea': '东九区',\n",
    "    'Ireland': '零时区',\n",
    "    'Vietnam': '东七区',\n",
    "    'Lebanon': '东二区',\n",
    "    'Ecuador': '西五区',\n",
    "    'Greece': '东二区',\n",
    "    'Portugal': '零时区',\n",
    "    'Kenya': '东三区',\n",
    "    'Egypt': '东二区',\n",
    "    'Georgia': '东四区',\n",
    "    'Estonia': '东二区',\n",
    "    'Lithuania': '东二区',\n",
    "    'South Africa': '东二区',\n",
    "    'Türkiye': '东三区',\n",
    "    'Israel': '东二区'\n",
    "}\n",
    "def get_time_zone(country):\n",
    "    return country_timezones.get(country)\n",
    "# 时区分布\n",
    "df['timezone'] = df['country'].apply(get_time_zone)\n",
    "# 输出转换后的时间和时区\n",
    "timezone_distribution = df['timezone'].value_counts()\n",
    "\n",
    "# 输出结果\n",
    "timezone_distribution\n"
   ]
  },
  {
   "cell_type": "code",
   "execution_count": 44,
   "metadata": {},
   "outputs": [
    {
     "data": {
      "text/plain": [
       "timezone\n",
       "东一区        176\n",
       "东五区到西八区    122\n",
       "东八区         44\n",
       "东三区到西八区     24\n",
       "零时区         24\n",
       "Name: count, dtype: int64"
      ]
     },
     "execution_count": 44,
     "metadata": {},
     "output_type": "execute_result"
    }
   ],
   "source": [
    "people['timezone'] = people['country'].apply(get_time_zone)\n",
    "time_zone = people['timezone'].value_counts()\n",
    "time_zone.head()"
   ]
  },
  {
   "cell_type": "code",
   "execution_count": 59,
   "metadata": {},
   "outputs": [],
   "source": [
    "# 提交频率分析\n",
    "# 输出前几个高活跃用户\n",
    "frequency = df[['name','event_action']].groupby('name').agg({'event_action': 'count'})\n",
    "frequency = frequency['event_action'].sort_values(ascending=False)"
   ]
  },
  {
   "cell_type": "code",
   "execution_count": 60,
   "metadata": {},
   "outputs": [
    {
     "data": {
      "text/plain": [
       "name\n",
       "arlac77               37960\n",
       "MilosKozak            36400\n",
       "danielroe             30616\n",
       "chenrui333            20300\n",
       "ConfluentSemaphore    19215\n",
       "taiki-e               14505\n",
       "khipp                 12905\n",
       "bot-targa             12704\n",
       "frenck                11218\n",
       "bdraco                10764\n",
       "Name: event_action, dtype: int64"
      ]
     },
     "execution_count": 60,
     "metadata": {},
     "output_type": "execute_result"
    }
   ],
   "source": [
    "frequency.head(10)"
   ]
  },
  {
   "cell_type": "code",
   "execution_count": 62,
   "metadata": {},
   "outputs": [
    {
     "data": {
      "text/plain": [
       "name\n",
       "lvhan028           750\n",
       "innerdvations      743\n",
       "cirospaciari       650\n",
       "zhangdaiscott      644\n",
       "meeseeksmachine    635\n",
       "Court72            621\n",
       "brophdawg11        599\n",
       "javsalgar          582\n",
       "Electroid          485\n",
       "tmcconechy          75\n",
       "Name: event_action, dtype: int64"
      ]
     },
     "execution_count": 62,
     "metadata": {},
     "output_type": "execute_result"
    }
   ],
   "source": [
    "frequency.tail(10)"
   ]
  },
  {
   "cell_type": "code",
   "execution_count": null,
   "metadata": {},
   "outputs": [
    {
     "data": {
      "text/plain": [
       "city\n",
       "Germany          111786\n",
       "Prague            39461\n",
       "San Francisco     27542\n",
       "Japan             26986\n",
       "Berlin            25978\n",
       "New York          24334\n",
       "Paris             19516\n",
       "Palo Alto         19215\n",
       "London            18400\n",
       "UK                17789\n",
       "Name: event_action, dtype: int64"
      ]
     },
     "execution_count": 9,
     "metadata": {},
     "output_type": "execute_result"
    }
   ],
   "source": [
    "#其他维度：将提交频率与城市结合，判断高频城市\n",
    "# 将城市和提交频率进行合并\n",
    "city_submission = df[['city','event_action']].groupby('city').agg({'event_action': 'count'})\n",
    "\n",
    "# 输出城市与提交频率的关系\n",
    "city_submission['event_action'].sort_values(ascending=False).head(10)\n"
   ]
  },
  {
   "cell_type": "code",
   "execution_count": 30,
   "metadata": {},
   "outputs": [
    {
     "data": {
      "text/plain": [
       "name\n",
       "tmcconechy         5.693270\n",
       "Electroid          0.723762\n",
       "hiyouga            0.696599\n",
       "meeseeksmachine    0.692151\n",
       "Court72            0.685343\n",
       "javsalgar          0.618979\n",
       "brophdawg11        0.573656\n",
       "bradfitz           0.564527\n",
       "cirospaciari       0.563635\n",
       "andrasbacsai       0.533460\n",
       "Name: value(influence per activity), dtype: float64"
      ]
     },
     "execution_count": 30,
     "metadata": {},
     "output_type": "execute_result"
    }
   ],
   "source": [
    "#将influence和提交频率结合，判断activity的价值\n",
    "record_counts = df.groupby('name').size()\n",
    "value_df = df.groupby('name').first()\n",
    "value_df[\"value(influence per activity)\"] = value_df['total_influence']/record_counts\n",
    "value_df = value_df[\"value(influence per activity)\"].sort_values(ascending=False)\n",
    "value_df.head(10)"
   ]
  },
  {
   "cell_type": "code",
   "execution_count": 10,
   "metadata": {},
   "outputs": [
    {
     "data": {
      "image/png": "[encoded data removed]",
      "text/plain": [
       "<Figure size 1000x600 with 1 Axes>"
      ]
     },
     "metadata": {},
     "output_type": "display_data"
    }
   ],
   "source": [
    "import matplotlib.pyplot as plt\n",
    "import seaborn as sns\n",
    "\n",
    "# 可视化国家分布\n",
    "plt.figure(figsize=(10, 6))\n",
    "sns.barplot(x=country_distribution.index, y=country_distribution.values)\n",
    "plt.xticks(rotation=90)\n",
    "plt.title(\"Country Distribution of Users\")\n",
    "plt.xlabel(\"Country\")\n",
    "plt.ylabel(\"User Count\")\n",
    "plt.tight_layout()\n",
    "plt.show()\n"
   ]
  }
 ],
 "metadata": {
  "kernelspec": {
   "display_name": "Python 3",
   "language": "python",
   "name": "python3"
  },
  "language_info": {
   "codemirror_mode": {
    "name": "ipython",
    "version": 3
   },
   "file_extension": ".py",
   "mimetype": "text/x-python",
   "name": "python",
   "nbconvert_exporter": "python",
   "pygments_lexer": "ipython3",
   "version": "3.11.9"
  }
 },
 "nbformat": 4,
 "nbformat_minor": 2
}
