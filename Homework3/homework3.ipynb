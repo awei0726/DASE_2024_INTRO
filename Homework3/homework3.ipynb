{
 "cells": [
  {
   "cell_type": "code",
   "execution_count": 15,
   "metadata": {},
   "outputs": [
    {
     "name": "stdout",
     "output_type": "stream",
     "text": [
      "14 不是质数\n"
     ]
    }
   ],
   "source": [
    "def is_prime(a):\n",
    "    if a <= 1:\n",
    "        return False\n",
    "    for i in range(2, a):\n",
    "        if a % i == 0:\n",
    "            return False\n",
    "    return True\n",
    "\n",
    "a = int(input(\"请输入一个整数: \"))\n",
    "if is_prime(a):\n",
    "    print(f\"{a} 是质数\")\n",
    "else:\n",
    "    print(f\"{a} 不是质数\")\n"
   ]
  },
  {
   "cell_type": "code",
   "execution_count": 16,
   "metadata": {},
   "outputs": [
    {
     "name": "stdout",
     "output_type": "stream",
     "text": [
      "排序后: [5, 6, 11, 12, 13]\n"
     ]
    }
   ],
   "source": [
    "def insert_sort(arr):\n",
    "    for i in range(1, len(arr)):\n",
    "        key = arr[i] \n",
    "        j = i - 1\n",
    "        while j >= 0 and arr[j] > key:\n",
    "            arr[j + 1] = arr[j]\n",
    "            j -= 1\n",
    "        arr[j + 1] = key \n",
    "    return arr\n",
    "\n",
    "# 示例\n",
    "arr = [12, 11, 13, 5, 6]\n",
    "sorted_arr = insert_sort(arr)\n",
    "print(\"排序后:\", sorted_arr)\n"
   ]
  },
  {
   "cell_type": "code",
   "execution_count": 17,
   "metadata": {},
   "outputs": [
    {
     "name": "stdout",
     "output_type": "stream",
     "text": [
      "排序后: [5, 6, 11, 12, 13]\n"
     ]
    }
   ],
   "source": [
    "def select_sort(arr):\n",
    "    for i in range(len(arr)):\n",
    "        min_index = i\n",
    "        for j in range(i + 1, len(arr)):\n",
    "            if arr[j] < arr[min_index]:\n",
    "                min_index = j\n",
    "        arr[i], arr[min_index] = arr[min_index], arr[i]\n",
    "    return arr\n",
    "\n",
    "# 示例\n",
    "arr = [12, 11, 13, 5, 6]\n",
    "sorted_arr = select_sort(arr)\n",
    "print(\"排序后:\", sorted_arr)\n"
   ]
  },
  {
   "cell_type": "code",
   "execution_count": 18,
   "metadata": {},
   "outputs": [
    {
     "name": "stdout",
     "output_type": "stream",
     "text": [
      "排序后的数组: [5, 6, 11, 12, 13]\n"
     ]
    }
   ],
   "source": [
    "def quick_sort(arr):\n",
    "    def partition(low, high):\n",
    "        pivot = arr[high]\n",
    "        i = low - 1  \n",
    "\n",
    "        for j in range(low, high):\n",
    "            if arr[j] < pivot:\n",
    "                i += 1\n",
    "                arr[i], arr[j] = arr[j], arr[i] \n",
    "\n",
    "        arr[i + 1], arr[high] = arr[high], arr[i + 1]\n",
    "        return i + 1 \n",
    "\n",
    "    def quick_sort_recursive(low, high):\n",
    "        if low < high:\n",
    "            pi = partition(low, high)\n",
    "\n",
    "            quick_sort_recursive(low, pi - 1)\n",
    "            quick_sort_recursive(pi + 1, high)\n",
    "\n",
    "    quick_sort_recursive(0, len(arr) - 1)\n",
    "    return arr\n",
    "\n",
    "# 示例\n",
    "arr = [12, 11, 13, 5, 6]\n",
    "sorted_arr = quick_sort(arr)\n",
    "print(\"排序后的数组:\", sorted_arr)\n"
   ]
  },
  {
   "cell_type": "code",
   "execution_count": 19,
   "metadata": {},
   "outputs": [
    {
     "name": "stdout",
     "output_type": "stream",
     "text": [
      "\n",
      "数组长度: 100\n",
      "Selection Sort 排序时间: 0.000000 秒\n",
      "Insertion Sort 排序时间: 0.000000 秒\n",
      "Built-in Sort 排序时间: 0.000000 秒\n",
      "\n",
      "数组长度: 1000\n",
      "Selection Sort 排序时间: 0.012986 秒\n",
      "Insertion Sort 排序时间: 0.000000 秒\n",
      "Built-in Sort 排序时间: 0.000000 秒\n",
      "\n",
      "数组长度: 10000\n",
      "Selection Sort 排序时间: 1.129148 秒\n",
      "Insertion Sort 排序时间: 0.000997 秒\n",
      "Built-in Sort 排序时间: 0.000000 秒\n"
     ]
    }
   ],
   "source": [
    "import random\n",
    "import time\n",
    "def generate_random_array(length):\n",
    "    return [random.randint(1, 10000) for _ in range(length)]\n",
    "\n",
    "def time_sorting_algorithms(arr):\n",
    "    sorting_algorithms = {\n",
    "        \"Selection Sort\": select_sort,\n",
    "        \"Insertion Sort\": insert_sort,\n",
    "        \"Built-in Sort\": sorted\n",
    "    }\n",
    "\n",
    "    results = {}\n",
    "    for name, sort_func in sorting_algorithms.items():\n",
    "        arr_copy = arr\n",
    "        start_time = time.time()\n",
    "        sorted_arr = sort_func(arr_copy)\n",
    "        end_time = time.time()\n",
    "        results[name] = end_time - start_time\n",
    "\n",
    "    return results\n",
    "\n",
    "array_lengths = [100, 1000, 10000]\n",
    "for length in array_lengths:\n",
    "    arr = generate_random_array(length)\n",
    "    print(f\"\\n数组长度: {length}\")\n",
    "    results = time_sorting_algorithms(arr)\n",
    "    for sort_name, duration in results.items():\n",
    "        print(f\"{sort_name} 排序时间: {duration:.6f} 秒\")\n"
   ]
  },
  {
   "cell_type": "code",
   "execution_count": 20,
   "metadata": {},
   "outputs": [
    {
     "name": "stdout",
     "output_type": "stream",
     "text": [
      "当前系统时间: 2024-10-29 16:27:51.983690\n"
     ]
    }
   ],
   "source": [
    "import datetime\n",
    "current_time = datetime.datetime.now()\n",
    "print(\"当前系统时间:\", current_time)\n"
   ]
  },
  {
   "cell_type": "code",
   "execution_count": 21,
   "metadata": {},
   "outputs": [
    {
     "name": "stdout",
     "output_type": "stream",
     "text": [
      "各科平均成绩：\n",
      "语文: 82.6\n",
      "数学: 81.0\n",
      "英语: 81.8\n"
     ]
    }
   ],
   "source": [
    "import csv\n",
    "\n",
    "file_path = 'stuGrade.csv'\n",
    "\n",
    "chinese_scores = []\n",
    "math_scores = []\n",
    "english_scores = []\n",
    "\n",
    "with open(file_path, mode='r', encoding='utf-8') as file:\n",
    "    reader = csv.reader(file)\n",
    "    next(reader)  # 跳过标题行\n",
    "    for row in reader:\n",
    "        chinese_scores.append(float(row[1])) \n",
    "        math_scores.append(float(row[2]))     \n",
    "        english_scores.append(float(row[3]))  \n",
    "\n",
    "chinese_avg = round(sum(chinese_scores) / len(chinese_scores), 2)\n",
    "math_avg = round(sum(math_scores) / len(math_scores), 2)\n",
    "english_avg = round(sum(english_scores) / len(english_scores), 2)\n",
    "\n",
    "print(\"各科平均成绩：\")\n",
    "print(f\"语文: {chinese_avg}\")\n",
    "print(f\"数学: {math_avg}\")\n",
    "print(f\"英语: {english_avg}\")\n"
   ]
  },
  {
   "cell_type": "code",
   "execution_count": 22,
   "metadata": {},
   "outputs": [
    {
     "name": "stdout",
     "output_type": "stream",
     "text": [
      "数据已写入my.txt文件。\n"
     ]
    }
   ],
   "source": [
    "\n",
    "output_path = 'my.txt'\n",
    "scores = [88.21,92.65,96.23]\n",
    "scores_rounded=round(sum(scores)/len(scores),2)\n",
    "\n",
    "current_time = datetime.datetime.now().strftime(\"%Y-%m-%d %H:%M:%S\")\n",
    "time.sleep(2)\n",
    "two_seconds_later = datetime.datetime.now().strftime(\"%Y-%m-%d %H:%M:%S\")\n",
    "\n",
    "\n",
    "student_id = \"10224507021\"\n",
    "name = \"汤玮瑄\"\n",
    "\n",
    "with open(output_path, mode='w', encoding='utf-8') as file:\n",
    "    # 写入第1行：学号和姓名\n",
    "    file.write(f\"{student_id} {name}\\n\")\n",
    "    \n",
    "    # 写入第2行：3门课程的平均成绩，保留2位小数\n",
    "    file.write(f\"{scores_rounded}\\n\")\n",
    "    \n",
    "    # 写入第3行：当前系统时间\n",
    "    file.write(f\"{current_time}\\n\")\n",
    "    \n",
    "    # 写入第4行：两秒后的系统时间\n",
    "    file.write(f\"{two_seconds_later}\\n\")\n",
    "\n",
    "print(\"数据已写入my.txt文件。\")\n"
   ]
  }
 ],
 "metadata": {
  "kernelspec": {
   "display_name": "Python 3",
   "language": "python",
   "name": "python3"
  },
  "language_info": {
   "codemirror_mode": {
    "name": "ipython",
    "version": 3
   },
   "file_extension": ".py",
   "mimetype": "text/x-python",
   "name": "python",
   "nbconvert_exporter": "python",
   "pygments_lexer": "ipython3",
   "version": "3.11.9"
  }
 },
 "nbformat": 4,
 "nbformat_minor": 2
}
